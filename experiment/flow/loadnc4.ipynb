{
 "cells": [
  {
   "cell_type": "code",
   "execution_count": 9,
   "metadata": {
    "collapsed": true
   },
   "outputs": [],
   "source": [
    "import xarray as xr\n",
    "import pyvista as pv\n",
    "import numpy as np\n",
    "from vtkmodules.util.numpy_support import numpy_to_vtk\n",
    "from vtkmodules.util.vtkConstants import VTK_FLOAT\n",
    "from vtkmodules.vtkCommonDataModel import vtkRectilinearGrid\n",
    "from vtkmodules.vtkIOLegacy import vtkRectilinearGridWriter"
   ]
  },
  {
   "cell_type": "code",
   "execution_count": 2,
   "outputs": [],
   "source": [
    "# 加载.nc文件\n",
    "ds = xr.open_dataset('/Users/yy/Desktop/IWP_DAILY_20141123.nc')"
   ],
   "metadata": {
    "collapsed": false,
    "pycharm": {
     "name": "#%%\n"
    }
   }
  },
  {
   "cell_type": "code",
   "execution_count": 14,
   "outputs": [
    {
     "name": "stdout",
     "output_type": "stream",
     "text": [
      "4\n"
     ]
    }
   ],
   "source": [
    "u = ds.u\n",
    "print(len(u.shape))"
   ],
   "metadata": {
    "collapsed": false,
    "pycharm": {
     "name": "#%%\n"
    }
   }
  },
  {
   "cell_type": "code",
   "execution_count": 3,
   "outputs": [],
   "source": [
    "# 提取u和v变量\n",
    "u = ds.u.sel(time=ds.time[0]).values\n",
    "v = ds.v.sel(time=ds.time[0]).values\n",
    "\n",
    "# 获取坐标值并转换为 NumPy 数组\n",
    "depth = ds.depth.values\n",
    "lat = ds.lat.values\n",
    "lon = ds.lon.values\n",
    "\n",
    "# 创建网格信息\n",
    "xdim, ydim, zdim = len(lon), len(lat), len(depth)"
   ],
   "metadata": {
    "collapsed": false,
    "pycharm": {
     "name": "#%%\n"
    }
   }
  },
  {
   "cell_type": "code",
   "execution_count": 4,
   "outputs": [],
   "source": [
    "x = np.arange(0, xdim, 1, dtype='float64')  # np.arange(起点，终点，步长）\n",
    "y = np.arange(0, ydim, 1, dtype='float64')\n",
    "z = np.arange(0, zdim, 1, dtype='float64')"
   ],
   "metadata": {
    "collapsed": false,
    "pycharm": {
     "name": "#%%\n"
    }
   }
  },
  {
   "cell_type": "code",
   "execution_count": 5,
   "outputs": [],
   "source": [
    "x_coo = numpy_to_vtk(num_array=x, deep=True, array_type=VTK_FLOAT)\n",
    "y_coo = numpy_to_vtk(num_array=y, deep=True, array_type=VTK_FLOAT)\n",
    "z_coo = numpy_to_vtk(num_array=z, deep=True, array_type=VTK_FLOAT)"
   ],
   "metadata": {
    "collapsed": false,
    "pycharm": {
     "name": "#%%\n"
    }
   }
  },
  {
   "cell_type": "code",
   "execution_count": 6,
   "outputs": [],
   "source": [
    "grid = vtkRectilinearGrid()\n",
    "grid.SetDimensions(xdim, ydim, zdim)\n",
    "grid.SetXCoordinates(x_coo)\n",
    "grid.SetYCoordinates(y_coo)\n",
    "grid.SetZCoordinates(z_coo)"
   ],
   "metadata": {
    "collapsed": false,
    "pycharm": {
     "name": "#%%\n"
    }
   }
  },
  {
   "cell_type": "code",
   "execution_count": 7,
   "outputs": [
    {
     "data": {
      "text/plain": "0"
     },
     "execution_count": 7,
     "metadata": {},
     "output_type": "execute_result"
    }
   ],
   "source": [
    "# 添加向量数据\n",
    "u = np.ravel(u)\n",
    "v = np.ravel(v)\n",
    "w = np.zeros_like(u)\n",
    "\n",
    "\n",
    "vectors = numpy_to_vtk(np.column_stack((u, v, w)), deep=True)\n",
    "vectors.SetName(\"Vectors\")\n",
    "grid.GetPointData().SetVectors(vectors)"
   ],
   "metadata": {
    "collapsed": false,
    "pycharm": {
     "name": "#%%\n"
    }
   }
  },
  {
   "cell_type": "code",
   "execution_count": 10,
   "outputs": [
    {
     "data": {
      "text/plain": "1"
     },
     "execution_count": 10,
     "metadata": {},
     "output_type": "execute_result"
    }
   ],
   "source": [
    "# 写入vtk文件\n",
    "writer = vtkRectilinearGridWriter()\n",
    "writer.SetFileName('output.vtk')\n",
    "writer.SetInputData(grid)\n",
    "writer.Write()"
   ],
   "metadata": {
    "collapsed": false,
    "pycharm": {
     "name": "#%%\n"
    }
   }
  },
  {
   "cell_type": "code",
   "execution_count": null,
   "outputs": [],
   "source": [],
   "metadata": {
    "collapsed": false,
    "pycharm": {
     "name": "#%%\n"
    }
   }
  }
 ],
 "metadata": {
  "kernelspec": {
   "display_name": "Python 3",
   "language": "python",
   "name": "python3"
  },
  "language_info": {
   "codemirror_mode": {
    "name": "ipython",
    "version": 2
   },
   "file_extension": ".py",
   "mimetype": "text/x-python",
   "name": "python",
   "nbconvert_exporter": "python",
   "pygments_lexer": "ipython2",
   "version": "2.7.6"
  }
 },
 "nbformat": 4,
 "nbformat_minor": 0
}